{
 "cells": [
  {
   "cell_type": "code",
   "execution_count": 2,
   "metadata": {},
   "outputs": [],
   "source": [
    "from astropy.table import Table, Column, join\n",
    "from astropy.coordinates import SkyCoord\n",
    "from astropy.table import Column\n",
    "from astropy.io import ascii\n",
    "from astropy import constants as const\n",
    "import numpy as np\n",
    "import matplotlib.pyplot as plt\n",
    "from astropy.cosmology import Planck18 as cosmo\n",
    "import pandas as pd\n",
    "import pprint\n",
    "import sys\n",
    "import operator\n",
    "from scipy import optimize\n",
    "from scipy.optimize import curve_fit\n",
    "from matplotlib.ticker import (MultipleLocator, AutoMinorLocator)"
   ]
  },
  {
   "cell_type": "code",
   "execution_count": 4,
   "metadata": {
    "scrolled": false
   },
   "outputs": [
    {
     "name": "stdout",
     "output_type": "stream",
     "text": [
      "    objname    f  f_f125w       z        UV       VJ        re       dre  \\\n",
      "0  AEGIS_13  0.0      1.0  1.3049  1.651843  1.90384  0.388926  0.006917   \n",
      "\n",
      "   re_f125w  dre_f125w  ...  logzsol_errup  logzsol_errdown  tau_dust_median  \\\n",
      "0   1.55208   0.092354  ...        -0.0107          -0.3838           1.5256   \n",
      "\n",
      "   tau_dust_errup  tau_dust_errdown  avg_age_median  avg_age_errup  \\\n",
      "0          1.6387            1.3251          2.3332         2.6073   \n",
      "\n",
      "   avg_age_errdown      q        dq  \n",
      "0           2.0686  0.486  0.012781  \n",
      "\n",
      "[1 rows x 35 columns]\n"
     ]
    }
   ],
   "source": [
    "input_files = ['allfields/aegis/aegis_3dhst.v4.1_f125w.galfit', 'allfields/aegis/aegis_3dhst.v4.1_f160w.galfit', 'allfields/cosmos/cosmos_3dhst.v4.1_f125w.galfit', 'allfields/cosmos/cosmos_3dhst.v4.1_f160w.galfit', 'allfields/goodsn/goodsn_3dhst.v4.1_f125w.galfit', 'allfields/goodsn/goodsn_3dhst.v4.1_f160w.galfit', 'allfields/goodss/goodss_3dhst.v4.1_f125w.galfit', 'allfields/goodss/goodss_3dhst.v4.1_f160w.galfit', 'allfields/uds/uds_3dhst.v4.1_f125w.galfit', 'allfields/uds/uds_3dhst.v4.1_f160w.galfit']\n",
    "output_files = ['allfields/aegis/aegis_3dhst.v4.1_f125w_galfit.csv', 'allfields/aegis/aegis_3dhst.v4.1_f160w_galfit.csv', 'allfields/cosmos/cosmos_3dhst.v4.1_f125w_galfit.csv', 'allfields/cosmos/cosmos_3dhst.v4.1_f160w_galfit.csv', 'allfields/goodsn/goodsn_3dhst.v4.1_f125w_galfit.csv', 'allfields/goodsn/goodsn_3dhst.v4.1_f160w_galfit.csv', 'allfields/goodss/goodss_3dhst.v4.1_f125w_galfit.csv', 'allfields/goodss/goodss_3dhst.v4.1_f160w_galfit.csv', 'allfields/uds/uds_3dhst.v4.1_f125w_galfit.csv', 'allfields/uds/uds_3dhst.v4.1_f160w_galfit.csv']\n",
    "mass_files = ['3D-HST_catalogs/aegis/Grism/aegis_3dhst.v4.1.5.zbest.fout', '3D-HST_catalogs/cosmos/Grism/cosmos_3dhst.v4.1.5.zbest.fout', '3D-HST_catalogs/goodsn/Grism/goodsn_3dhst.v4.1.5.zbest.fout', '3D-HST_catalogs/goodss/Grism/goodss_3dhst.v4.1.5.zbest.fout', '3D-HST_catalogs/uds/Grism/uds_3dhst.v4.1.5.zbest.fout']\n",
    "\n",
    "prospector = pd.read_csv('prospector_3dhst_catalog_with_UVJ_galfit.csv')\n",
    "\n",
    "df_list = []\n",
    "\n",
    "for i, filename in enumerate(input_files):\n",
    "    fields = pd.read_csv (filename, sep ='\\s+')\n",
    "    fields = fields.astype({\"NUMBER\": str})\n",
    "    fields[\"NUMBER\"] = filename.split(\"/\")[1].upper()+ '_' + fields[\"NUMBER\"]\n",
    "    fields.rename(columns={'NUMBER': 'objname'}, inplace=True)\n",
    "    if filename.endswith(\"f125w.galfit\"):\n",
    "        fields.rename(columns={'re': 're_f125w', 'dre':'dre_f125w', 'f':'f_f125w', 'mag': 'mag_f125w', 'dmag':'dmag_f125w'}, inplace=True)\n",
    "        fields = fields[['objname','f_f125w','re_f125w','dre_f125w','mag_f125w','dmag_f125w']]\n",
    "    else:\n",
    "        fields.rename(columns={'mag': 'mag_f160w', 'dmag':'dmag_f160w'}, inplace=True)\n",
    "        fields = fields[['objname','f','mag_f160w','dmag_f160w']]\n",
    "    prospector_index = prospector.set_index('objname')\n",
    "    fields_index = fields.set_index('objname')\n",
    "    prospector = prospector_index.reindex(columns=prospector_index.columns.union(fields_index.columns))\n",
    "    prospector.update(fields_index)\n",
    "    prospector.reset_index(inplace=True)\n",
    "    #print(prospector.head(1))\n",
    "    \n",
    "for i, filename in enumerate(mass_files):\n",
    "    masses = pd.read_csv (filename, sep ='\\s+')\n",
    "    masses = masses.astype({\"id\": str})\n",
    "    masses[\"id\"] = filename.split(\"/\")[1].upper()+ '_' + masses[\"id\"]\n",
    "    masses.rename(columns={'id': 'objname', 'lmass': 'FAST_lmass'}, inplace=True)\n",
    "    #if filename.endswith(\"f125w.galfit\"):\n",
    "        #masses.rename(columns={'re': 're_f125w', 'dre':'dre_f125w', 'f':'f_f125w'}, inplace=True)\n",
    "    masses = masses[['objname','FAST_lmass']]\n",
    "    #else:\n",
    "        #masses = masses[['objname','f']]\n",
    "    prospector_index = prospector.set_index('objname')\n",
    "    masses_index = masses.set_index('objname')\n",
    "    prospector = prospector_index.reindex(columns=prospector_index.columns.union(masses_index.columns))\n",
    "    prospector.update(masses_index)\n",
    "    prospector.reset_index(inplace=True)\n",
    "    #print(prospector.head(1))\n",
    "\n",
    "cols = ['objname', 'f', 'f_f125w', 'z', 'UV', 'VJ', 're', 'dre', 're_f125w', 'dre_f125w', 'mag_f125w','dmag_f125w', 'mag_f160w','dmag_f160w', 'FAST_lmass', 'logstellar_mass_median', 'logstellar_mass_errup', 'logstellar_mass_errdown', 'sfr_100myr_median', 'sfr_100myr_errup', 'sfr_100myr_errdown', 'logssfr_100myr_median', 'logssfr_100myr_errup', 'logssfr_100myr_errdown', 'logzsol_median', 'logzsol_errup', 'logzsol_errdown', 'tau_dust_median', 'tau_dust_errup', 'tau_dust_errdown', 'avg_age_median', 'avg_age_errup', 'avg_age_errdown', 'q', 'dq']\n",
    "prospector = prospector[cols]\n",
    "print(prospector.head(1))\n",
    "prospector.to_csv('prospector_UVJ_galfit_FAST.csv')"
   ]
  },
  {
   "cell_type": "code",
   "execution_count": null,
   "metadata": {},
   "outputs": [],
   "source": [
    "for i, filename in enumerate(mass_files):\n",
    "    masses = pd.read_csv (filename, sep ='\\s+')\n",
    "    masses = masses.astype({\"id\": str})\n",
    "    masses[\"id\"] = filename.split(\"/\")[1].upper()+ '_' + masses[\"id\"]\n",
    "    masses.rename(columns={'id': 'objname', 'lmass': 'FAST_lmass'}, inplace=True)\n",
    "    #if filename.endswith(\"f125w.galfit\"):\n",
    "        #masses.rename(columns={'re': 're_f125w', 'dre':'dre_f125w', 'f':'f_f125w'}, inplace=True)\n",
    "    masses = masses[['objname','FAST_lmass']]\n",
    "    #else:\n",
    "        #masses = masses[['objname','f']]"
   ]
  },
  {
   "cell_type": "code",
   "execution_count": null,
   "metadata": {
    "scrolled": false
   },
   "outputs": [],
   "source": []
  },
  {
   "cell_type": "code",
   "execution_count": null,
   "metadata": {},
   "outputs": [],
   "source": []
  }
 ],
 "metadata": {
  "kernelspec": {
   "display_name": "Python 3",
   "language": "python",
   "name": "python3"
  },
  "language_info": {
   "codemirror_mode": {
    "name": "ipython",
    "version": 3
   },
   "file_extension": ".py",
   "mimetype": "text/x-python",
   "name": "python",
   "nbconvert_exporter": "python",
   "pygments_lexer": "ipython3",
   "version": "3.5.4"
  }
 },
 "nbformat": 4,
 "nbformat_minor": 5
}
